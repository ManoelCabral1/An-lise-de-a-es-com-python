{
 "cells": [
  {
   "cell_type": "markdown",
   "metadata": {},
   "source": [
    "Otimização de investimentos é o processo de selecionar a melhor composição de carteira de ativos possível. Não existe carteira perfeita, mas a elaboração de estratégias que maximizem retornos a um dado risco é a prioridade dos investidores modernos. Embora essa ideia pareça simples, apenas na metade do século passado Harry Markowitz desenvolveu um algoritmo — A Fronteira Eficiente — que permite a otimização de investimentos.\n",
    "\n",
    "O maior pressuposto desse algoritmo é que investidores são avessos a risco. Então, dada uma carteira com um certo nível de retorno esperado, a combinação dos ativos com o menor risco possível será a escolhida pelo investidor. Sob essa premissa, investidores só realizarão operações financeiras de alto risco se puderem esperar altíssimos ganhos.\n",
    "\n",
    "### A maldição da fronteira eficiente\n",
    "Algoritmos de otimização como Markowitz são muito sensíveis a pequenas variações nas entradas do modelo, e esses pequenos erros podem resultar em grandes diferenças nas alocações de uma carteira ideal.\n",
    "\n",
    "Um objeto fundamental para o encontro da fronteira eficiente é a matriz de covariâncias. Com ela é possível analisar as correlações entre todos os ativos e estimar o risco da carteira.\n",
    "\n",
    "Matrizes de covariâncias são muito complexas para serem analisadas pois levam em conta toda a composição da carteira. Isso significa que erros na entrada do modelo acabam afetando o portfólio como um todo.Uma matriz de covariâncias também pode ser visualizada como um grafo totalmente conectado.\n",
    "\n",
    "Para reduzir a complexidade do grafo o ideal é eliminar conexões entre ativos pouco correlacionados e focar apenas nas relações relevantes. Para isso pode-se utilizar uma estrutura topológica conhecida como árvore. Tal estrutura além de reduzir a interferência de erros de estimativa, melhora significativamente a interpretação do grafo."
   ]
  },
  {
   "cell_type": "markdown",
   "metadata": {},
   "source": [
    "## Hierarchical risk parity\n",
    "O Hierarchical Risk Parity (HRP) é um algoritmo de otimização de portfólios desenvolvido por Marcos Lopez de Prado. Esse otimizador combina teoria de grafos e machine learning para construir uma carteira diversificada com soluções estáveis.\n",
    "O HRP pode ser dividido em 3 grandes passos:\n",
    "1. **Hierarchical Tree Clustering**: Processo de agrupamento de ativos semelhantes utilizando inteligência artificial.\n",
    "2. **Matrix Seriation**: Reorganização de linhas e colunas da matriz de covariança.\n",
    "3. **Recursive Bisection**: Atribuição de pesos dos ativos.\n",
    "\n",
    "### Hierarchical Tree Clustering\n",
    "Nesta etapa, iremos aplicar uma técnica de aprendizado não supervisionado que é a clusterização hierárquica. Esse tipo de algoritmo visa construir agrupamentos (clusters) segundo um métrica de semelhança entre os dados.\n",
    "Para isso iremos realizar a aquisição dos preços históricos, para montar uma carteira para ser otimizada. \n",
    "\n",
    "A clusterização hierárquica será realizada sobre os retornos históricos do ativos da carteira. Para efetuar essa operação temos dois principais hiperparâmetros: método e métrica.\n",
    "\n",
    "**Método**: Algoritmo utilizado para a clusterização, iremos utilizar ‘ward’ que computa os agrupamentos a partir de suas variâncias.\n",
    "\n",
    "**Métrica**: Tipo de medida que avalia a semelhança entre os dados, iremos utilizar a distância euclidiana."
   ]
  },
  {
   "cell_type": "code",
   "execution_count": 1,
   "metadata": {},
   "outputs": [],
   "source": [
    "import numpy as np\n",
    "import pandas as pd\n",
    "from pandas_datareader import data as pdr"
   ]
  },
  {
   "cell_type": "code",
   "execution_count": 2,
   "metadata": {},
   "outputs": [
    {
     "data": {
      "text/html": [
       "<div>\n",
       "<style scoped>\n",
       "    .dataframe tbody tr th:only-of-type {\n",
       "        vertical-align: middle;\n",
       "    }\n",
       "\n",
       "    .dataframe tbody tr th {\n",
       "        vertical-align: top;\n",
       "    }\n",
       "\n",
       "    .dataframe thead th {\n",
       "        text-align: right;\n",
       "    }\n",
       "</style>\n",
       "<table border=\"1\" class=\"dataframe\">\n",
       "  <thead>\n",
       "    <tr style=\"text-align: right;\">\n",
       "      <th></th>\n",
       "      <th>SELIC-R.BK</th>\n",
       "      <th>BBD</th>\n",
       "      <th>ITUB</th>\n",
       "      <th>HGLG11.SA</th>\n",
       "      <th>KNRI11.SA</th>\n",
       "      <th>AZUL</th>\n",
       "      <th>GOL</th>\n",
       "    </tr>\n",
       "    <tr>\n",
       "      <th>Date</th>\n",
       "      <th></th>\n",
       "      <th></th>\n",
       "      <th></th>\n",
       "      <th></th>\n",
       "      <th></th>\n",
       "      <th></th>\n",
       "      <th></th>\n",
       "    </tr>\n",
       "  </thead>\n",
       "  <tbody>\n",
       "    <tr>\n",
       "      <th>2020-12-24</th>\n",
       "      <td>1.573042</td>\n",
       "      <td>5.232188</td>\n",
       "      <td>6.099965</td>\n",
       "      <td>NaN</td>\n",
       "      <td>NaN</td>\n",
       "      <td>21.320000</td>\n",
       "      <td>9.39</td>\n",
       "    </tr>\n",
       "    <tr>\n",
       "      <th>2020-12-25</th>\n",
       "      <td>1.573042</td>\n",
       "      <td>NaN</td>\n",
       "      <td>NaN</td>\n",
       "      <td>NaN</td>\n",
       "      <td>NaN</td>\n",
       "      <td>NaN</td>\n",
       "      <td>NaN</td>\n",
       "    </tr>\n",
       "    <tr>\n",
       "      <th>2020-12-28</th>\n",
       "      <td>1.573042</td>\n",
       "      <td>5.202793</td>\n",
       "      <td>6.040838</td>\n",
       "      <td>175.000000</td>\n",
       "      <td>162.520004</td>\n",
       "      <td>21.570000</td>\n",
       "      <td>9.28</td>\n",
       "    </tr>\n",
       "    <tr>\n",
       "      <th>2020-12-29</th>\n",
       "      <td>1.573042</td>\n",
       "      <td>5.244591</td>\n",
       "      <td>6.070402</td>\n",
       "      <td>178.589996</td>\n",
       "      <td>164.410004</td>\n",
       "      <td>21.760000</td>\n",
       "      <td>9.42</td>\n",
       "    </tr>\n",
       "    <tr>\n",
       "      <th>2020-12-30</th>\n",
       "      <td>1.573042</td>\n",
       "      <td>5.244591</td>\n",
       "      <td>6.040838</td>\n",
       "      <td>181.000000</td>\n",
       "      <td>162.320007</td>\n",
       "      <td>22.780001</td>\n",
       "      <td>9.65</td>\n",
       "    </tr>\n",
       "  </tbody>\n",
       "</table>\n",
       "</div>"
      ],
      "text/plain": [
       "            SELIC-R.BK       BBD      ITUB   HGLG11.SA   KNRI11.SA       AZUL  \\\n",
       "Date                                                                            \n",
       "2020-12-24    1.573042  5.232188  6.099965         NaN         NaN  21.320000   \n",
       "2020-12-25    1.573042       NaN       NaN         NaN         NaN        NaN   \n",
       "2020-12-28    1.573042  5.202793  6.040838  175.000000  162.520004  21.570000   \n",
       "2020-12-29    1.573042  5.244591  6.070402  178.589996  164.410004  21.760000   \n",
       "2020-12-30    1.573042  5.244591  6.040838  181.000000  162.320007  22.780001   \n",
       "\n",
       "             GOL  \n",
       "Date              \n",
       "2020-12-24  9.39  \n",
       "2020-12-25   NaN  \n",
       "2020-12-28  9.28  \n",
       "2020-12-29  9.42  \n",
       "2020-12-30  9.65  "
      ]
     },
     "execution_count": 2,
     "metadata": {},
     "output_type": "execute_result"
    }
   ],
   "source": [
    "tickers = ['SELIC-R.BK','BBD', 'ITUB', 'HGLG11.SA', 'KNRI11.SA', 'AZUL', 'GOL']\n",
    "\n",
    "df = pd.DataFrame()\n",
    "\n",
    "for t in tickers:\n",
    "    df[t] = pdr.DataReader(t, data_source='yahoo', start='01-01-2019', end = '31-12-2020')['Adj Close']\n",
    "\n",
    "df.tail()"
   ]
  },
  {
   "cell_type": "code",
   "execution_count": 3,
   "metadata": {},
   "outputs": [
    {
     "data": {
      "text/html": [
       "<div>\n",
       "<style scoped>\n",
       "    .dataframe tbody tr th:only-of-type {\n",
       "        vertical-align: middle;\n",
       "    }\n",
       "\n",
       "    .dataframe tbody tr th {\n",
       "        vertical-align: top;\n",
       "    }\n",
       "\n",
       "    .dataframe thead th {\n",
       "        text-align: right;\n",
       "    }\n",
       "</style>\n",
       "<table border=\"1\" class=\"dataframe\">\n",
       "  <thead>\n",
       "    <tr style=\"text-align: right;\">\n",
       "      <th></th>\n",
       "      <th>SELIC-R.BK</th>\n",
       "      <th>BBD</th>\n",
       "      <th>ITUB</th>\n",
       "      <th>HGLG11.SA</th>\n",
       "      <th>KNRI11.SA</th>\n",
       "      <th>AZUL</th>\n",
       "      <th>GOL</th>\n",
       "    </tr>\n",
       "    <tr>\n",
       "      <th>Date</th>\n",
       "      <th></th>\n",
       "      <th></th>\n",
       "      <th></th>\n",
       "      <th></th>\n",
       "      <th></th>\n",
       "      <th></th>\n",
       "      <th></th>\n",
       "    </tr>\n",
       "  </thead>\n",
       "  <tbody>\n",
       "    <tr>\n",
       "      <th>2019-01-03</th>\n",
       "      <td>0.0</td>\n",
       "      <td>0.012730</td>\n",
       "      <td>0.013388</td>\n",
       "      <td>0.000355</td>\n",
       "      <td>0.010829</td>\n",
       "      <td>0.002090</td>\n",
       "      <td>-0.002234</td>\n",
       "    </tr>\n",
       "    <tr>\n",
       "      <th>2019-01-04</th>\n",
       "      <td>0.0</td>\n",
       "      <td>0.013035</td>\n",
       "      <td>0.013212</td>\n",
       "      <td>-0.004966</td>\n",
       "      <td>0.000798</td>\n",
       "      <td>0.007647</td>\n",
       "      <td>0.008209</td>\n",
       "    </tr>\n",
       "    <tr>\n",
       "      <th>2019-01-07</th>\n",
       "      <td>0.0</td>\n",
       "      <td>-0.002757</td>\n",
       "      <td>-0.009027</td>\n",
       "      <td>0.008913</td>\n",
       "      <td>-0.006183</td>\n",
       "      <td>-0.032770</td>\n",
       "      <td>-0.050333</td>\n",
       "    </tr>\n",
       "    <tr>\n",
       "      <th>2019-01-08</th>\n",
       "      <td>0.0</td>\n",
       "      <td>0.016590</td>\n",
       "      <td>0.018219</td>\n",
       "      <td>0.003534</td>\n",
       "      <td>0.001472</td>\n",
       "      <td>-0.008916</td>\n",
       "      <td>0.016368</td>\n",
       "    </tr>\n",
       "    <tr>\n",
       "      <th>2019-01-09</th>\n",
       "      <td>0.0</td>\n",
       "      <td>0.026291</td>\n",
       "      <td>0.020875</td>\n",
       "      <td>0.009437</td>\n",
       "      <td>-0.005879</td>\n",
       "      <td>0.014754</td>\n",
       "      <td>-0.013804</td>\n",
       "    </tr>\n",
       "  </tbody>\n",
       "</table>\n",
       "</div>"
      ],
      "text/plain": [
       "            SELIC-R.BK       BBD      ITUB  HGLG11.SA  KNRI11.SA      AZUL  \\\n",
       "Date                                                                         \n",
       "2019-01-03         0.0  0.012730  0.013388   0.000355   0.010829  0.002090   \n",
       "2019-01-04         0.0  0.013035  0.013212  -0.004966   0.000798  0.007647   \n",
       "2019-01-07         0.0 -0.002757 -0.009027   0.008913  -0.006183 -0.032770   \n",
       "2019-01-08         0.0  0.016590  0.018219   0.003534   0.001472 -0.008916   \n",
       "2019-01-09         0.0  0.026291  0.020875   0.009437  -0.005879  0.014754   \n",
       "\n",
       "                 GOL  \n",
       "Date                  \n",
       "2019-01-03 -0.002234  \n",
       "2019-01-04  0.008209  \n",
       "2019-01-07 -0.050333  \n",
       "2019-01-08  0.016368  \n",
       "2019-01-09 -0.013804  "
      ]
     },
     "execution_count": 3,
     "metadata": {},
     "output_type": "execute_result"
    }
   ],
   "source": [
    "returns = df.pct_change()\n",
    "returns = returns.dropna()\n",
    "returns.head()"
   ]
  },
  {
   "cell_type": "code",
   "execution_count": 4,
   "metadata": {},
   "outputs": [
    {
     "data": {
      "image/png": "[encoded data removed]",
      "text/plain": [
       "<Figure size 720x504 with 1 Axes>"
      ]
     },
     "metadata": {
      "needs_background": "light"
     },
     "output_type": "display_data"
    }
   ],
   "source": [
    "import scipy.cluster.hierarchy as shc\n",
    "from matplotlib import pyplot as plt\n",
    "\n",
    "plt.figure(figsize=(10, 7))  \n",
    "plt.title(\"Dendrograma\")\n",
    "\n",
    "clusters = shc.linkage(returns.T, method='ward', metric='euclidean')\n",
    "\n",
    "dendograma = shc.dendrogram(clusters, labels=returns.columns)"
   ]
  },
  {
   "cell_type": "markdown",
   "metadata": {},
   "source": [
    "Apenas a partir dos retornos históricos, o algoritmo conseguiu identificar e segmentar diversos setores do mercado:\n",
    "\n",
    "* Renda Fixa: Selic\n",
    "* Aviação: Azul e Gol\n",
    "* Setor bancário: Bradesco e Itaú\n",
    "* Fundos imobiliários: HGLG11 e KNRI11\n",
    "\n",
    "### Matrix Seriation\n",
    "O objetivo dessa etapa é preparar a matriz de covariâncias para a atribuição de pesos. Utilizando os clusters gerados na etapa anterior, podemos recombinar as linhas e colunas da matriz de covariância, a fim de que ativos semelhantes estejam posicionados proximos."
   ]
  },
  {
   "cell_type": "code",
   "execution_count": 5,
   "metadata": {},
   "outputs": [],
   "source": [
    "import seaborn as sns\n",
    "\n",
    "def matrix_seriation(retornos: pd.DataFrame):\n",
    "\n",
    "    matriz_covarianca = retornos.cov()\n",
    "\n",
    "    dendograma = sns.clustermap(matriz_covarianca, method='ward', metric='euclidean')\n",
    "\n",
    "    colunas_seriation = dendograma.dendrogram_col.reordered_ind\n",
    "    colunas_seriation = retornos.columns[colunas_seriation]\n",
    "\n",
    "    return (matriz_covarianca, colunas_seriation)"
   ]
  },
  {
   "cell_type": "code",
   "execution_count": 6,
   "metadata": {},
   "outputs": [
    {
     "data": {
      "image/png": "[encoded data removed]",
      "text/plain": [
       "<Figure size 720x720 with 4 Axes>"
      ]
     },
     "metadata": {
      "needs_background": "light"
     },
     "output_type": "display_data"
    }
   ],
   "source": [
    "(matriz_cov, colunas_seriation) = matrix_seriation(returns)"
   ]
  },
  {
   "cell_type": "markdown",
   "metadata": {},
   "source": [
    "### Recursive Bisection\n",
    "Essa é a última e mais importante etapa do algoritmo, momento no qual os pesos serão atribuídos. A matriz de covariâncias gerada na etapa de Seriation é fundamental, pois ela será utilizada para realizar a iteração nos nós do grafo do dendograma. O algoritmo pode ser representado pelos seguintes passos:\n",
    "\n",
    "1) Inicialização dos pesos\n",
    "\n",
    "Todos os ativos recebem peso igual a 1.\n",
    "\n",
    "$$\\begin{equation}\n",
    "W_i = 1, i = 1,2,...,N\n",
    "\\end{equation}$$\n",
    "\n",
    "2) Iteração entre os nós da árvore\n",
    "Com a matriz de covariâncias, percorre-se a árvore selecionando os sub-clusters e sub-matrizes respectivos. O objetivo é realizar a diversificação de pesos entre ativos semelhantes.\n",
    "Olhando o dendograma do passo 1 pode-se exemplificar um hipotético par de carteiras:\n",
    "* Carteira 1: Fundos de investimentos. Que são compostos por 2 ativos, ou seja, tem uma matriz de covariâncias V1, com dimensão 2 x 2.\n",
    "* Carteira 2: Setor bancário. Que também é composta por 2 ativos, resultando em uma matriz de covariâncias V2.\n",
    "\n",
    "3) Atribuição de pesos pares\n",
    "\n",
    "Com o objetivo de calcular o risco de cada cluster, iremos atribuir pesos temporários para os ativos do cluster. Dado que cada cluster tem uma matriz de covariâncias (Vi), podemos calcular os pesos da seguinte forma:\n",
    "\n",
    "$$\\begin{equation}\n",
    "\\vec w_i = \\frac{diagonal\\left[V^{-1}\\right]}{soma\\left(diagonal\\left[V^{-1}\\right]\\right)}\n",
    "\\end{equation}$$\n",
    "\n",
    "4) Determinação das volatilidades\n",
    "\n",
    "A partir da fórmula clássica de volatilidade de um portfólio:\n",
    "\n",
    "$$\\begin{equation}\n",
    "\\sigma_i = \\vec w_{i}^{T}V_i\\vec w_i\n",
    "\\end{equation}$$\n",
    "\n",
    "5) Aplicação do fator de peso absoluto\n",
    "\n",
    "O fator de alocação funciona como uma fator de escala entre a sub-carteira e a carteira completa.\n",
    "\n",
    "$$\\begin{equation}\n",
    "\\alpha_1 = 1-\\frac{\\sigma_1}{\\sigma_1 + \\sigma_2} \\quad \\alpha_2 = \\frac{\\sigma_1}{\\sigma_1 + \\sigma_2}\n",
    "\\end{equation}$$\n",
    "\n",
    "O fatores de alocação tem um valor entre 0 e 1.\n",
    "\n",
    "O ativos presentes nas sub-carteiras, que foram inicializados com 1, terão seus valores atualizados pelos fatores de alocação.\n",
    "\n",
    "$$\\begin{equation}\n",
    "W\\left[1\\right] = \\alpha_1W\\left[1\\right]\n",
    "\\end{equation}$$\n",
    "$$\\begin{equation}\n",
    "W\\left[2\\right] = \\alpha_2W\\left[2\\right]\n",
    "\\end{equation}$$"
   ]
  },
  {
   "cell_type": "code",
   "execution_count": 7,
   "metadata": {},
   "outputs": [],
   "source": [
    "def calcula_pesos_hrp(matriz_cov, colunas_seriation):\n",
    "    # Inicialização de pesos\n",
    "    pesos = pd.Series(1, index=colunas_seriation)\n",
    "    paridades = [colunas_seriation]\n",
    "\n",
    "    while len(paridades) > 0:\n",
    "        # Instanciação de clusters\n",
    "        paridades = [cluster[inicio:fim] \n",
    "                     for cluster in paridades\n",
    "                      for inicio, fim in ((0, len(cluster) // 2),(len(cluster) // 2, len(cluster)))\n",
    "                        if len(cluster) > 1]\n",
    "\n",
    "        # Iteração entre paridades\n",
    "        for subcluster in range(0, len(paridades), 2):\n",
    "            \n",
    "            cluster_esquerdo = paridades[subcluster]\n",
    "            cluster_direito = paridades[subcluster + 1]\n",
    "            \n",
    "            matriz_cov_esquerda = matriz_cov[cluster_esquerdo].loc[cluster_esquerdo]\n",
    "            inversa_diagonal = 1 / np.diag(matriz_cov_esquerda.values)\n",
    "            pesos_cluster_esquerdo = inversa_diagonal / np.sum(inversa_diagonal)\n",
    "            vol_cluster_esquerdo = np.dot(pesos_cluster_esquerdo, np.dot(matriz_cov_esquerda, pesos_cluster_esquerdo))\n",
    "\n",
    "            matriz_cov_direita = matriz_cov[cluster_direito].loc[cluster_direito]\n",
    "            inversa_diagonal = 1 / np.diag(matriz_cov_direita.values)\n",
    "            pesos_cluster_direito = inversa_diagonal  / np.sum(inversa_diagonal)\n",
    "            vol_cluster_direito = np.dot(pesos_cluster_direito, np.dot(matriz_cov_direita, pesos_cluster_direito))\n",
    "\n",
    "            fator_alocacao = 1 - vol_cluster_esquerdo / (vol_cluster_esquerdo + vol_cluster_direito)\n",
    "\n",
    "            pesos[cluster_esquerdo] *= fator_alocacao\n",
    "            pesos[cluster_direito] *= 1 - fator_alocacao\n",
    "            \n",
    "    return pesos"
   ]
  },
  {
   "cell_type": "code",
   "execution_count": 8,
   "metadata": {},
   "outputs": [
    {
     "data": {
      "text/plain": [
       "AZUL           2.318152\n",
       "GOL            1.392947\n",
       "BBD            4.214601\n",
       "ITUB          11.883270\n",
       "SELIC-R.BK     6.170521\n",
       "HGLG11.SA     24.677308\n",
       "KNRI11.SA     49.343200\n",
       "dtype: float64"
      ]
     },
     "execution_count": 8,
     "metadata": {},
     "output_type": "execute_result"
    }
   ],
   "source": [
    "calcula_pesos_hrp(matriz_cov, colunas_seriation) * 100"
   ]
  },
  {
   "cell_type": "markdown",
   "metadata": {},
   "source": [
    "Esse é o resultado da otimização da carteira. Os valores estão em porcentagem."
   ]
  },
  {
   "cell_type": "markdown",
   "metadata": {},
   "source": [
    "### Backtesting da otimização\n",
    "E na prática? Como essa estratégia performaria no passado?\n",
    "Essas são as perguntas que queremos responder com o backtesting. Vale ressaltar que rentabilidade passada, não é garantia de rentabilidade futura. Porém ao simular uma estratégia de investimento, podemos obter boas informações de como a estratégia performaria em diversos cenários. Além de analisar a performance, o backtesting é importante para comparação entre diferentes estratégias.\n",
    "\n",
    "Em nosso backtesting, iremos comparar 3 otimizadores de investimento:\n",
    "1. **Equal Weight**: Alocação de carteira que atribui peso igual para todos os ativos.\n",
    "2. **Markowitz**: A Fronteira eficiente, algoritmo clássico de otimização.\n",
    "3. **HRP: Hierarchical risk parity**: otimizador que utiliza machine learning e teoria de grafos."
   ]
  },
  {
   "cell_type": "code",
   "execution_count": 19,
   "metadata": {},
   "outputs": [],
   "source": [
    "# Equal Weight\n",
    "def compute_unif_pesos(cov):\n",
    "    \n",
    "    return [1 / len(cov) for i in range(len(cov))]\n",
    "\n",
    "# Markowitz\n",
    "def compute_MV_pesos(cov):\n",
    "    inv_covar = np.linalg.inv(cov)\n",
    "    u = np.ones(len(cov))\n",
    "    \n",
    "    return np.dot(inv_covar, u) / np.dot(u, np.dot(inv_covar, u))"
   ]
  },
  {
   "cell_type": "code",
   "execution_count": 9,
   "metadata": {},
   "outputs": [],
   "source": [
    "def compute_portfolio_volatilidade(pesos, retornos):\n",
    "    return ((pesos * retornos)\n",
    "            .sum(axis=1)\n",
    "            .std() * np.sqrt(252))"
   ]
  },
  {
   "cell_type": "code",
   "execution_count": 30,
   "metadata": {},
   "outputs": [
    {
     "name": "stdout",
     "output_type": "stream",
     "text": [
      "Equal Weight:\n",
      "volatilidade: 0.4476\n",
      "\n",
      "\n",
      "\n",
      "Markowitz:\n",
      "volatilidade: 0.1716\n",
      "\n",
      "\n",
      "\n",
      "Hierarchical Risk Parity:\n",
      "volatilidade: 0.2286\n",
      "\n",
      "\n",
      "\n"
     ]
    }
   ],
   "source": [
    "cov = returns.cov()\n",
    "\n",
    "methods = {\n",
    "    'Equal Weight': compute_unif_weights,\n",
    "    'Markowitz': compute_MV_weights,\n",
    "}\n",
    "\n",
    "for name, method in methods.items():\n",
    "    pesos = method(cov)\n",
    "    \n",
    "    vol = compute_portfolio_volatilidade(\n",
    "        pesos, returns)\n",
    "    \n",
    "    print(name + ':\\n' +\n",
    "          'volatilidade: ' + str(round(vol, 4)) + '\\n' +\n",
    "          '\\n\\n')\n",
    "    \n",
    "pesos_hrp = calcula_pesos_hrp(matriz_cov, colunas_seriation)\n",
    "vol_hrp = compute_portfolio_volatilidade(pesos_hrp, returns)\n",
    "\n",
    "print('Hierarchical Risk Parity' + ':\\n' +\n",
    "          'volatilidade: ' + str(round(vol_hrp, 4)) + '\\n' +\n",
    "          '\\n\\n')"
   ]
  },
  {
   "cell_type": "markdown",
   "metadata": {},
   "source": [
    "O método de pesos iguais apresenta o pior resultado com volatilidade alta, logo com alto risco. Já o método de Markovitz tem o melhor resultado. Nesse caso, não é de se admirar que o método Hierarchical Risk Parity não tenha o melhor desempenho: ele cria uma ordem dos ativos com base em um algoritmo de agrupamento hierárquico cujo resultado é totalmente espúrio, pois não existem clusters aninhados. Nesse caso específico, usar o método de bissecção (algoritmo original de Lopez de Prado) em vez de seguir as divisões do dendrograma (uma ideia alternativa que parece intuitivamente melhor) pode aliviar o problema de encontrar um agrupamento de correlação espúrio, ainda assim o resultado é próximo do método de Markowitz."
   ]
  },
  {
   "cell_type": "code",
   "execution_count": null,
   "metadata": {},
   "outputs": [],
   "source": []
  }
 ],
 "metadata": {
  "kernelspec": {
   "display_name": "Python 3",
   "language": "python",
   "name": "python3"
  },
  "language_info": {
   "codemirror_mode": {
    "name": "ipython",
    "version": 3
   },
   "file_extension": ".py",
   "mimetype": "text/x-python",
   "name": "python",
   "nbconvert_exporter": "python",
   "pygments_lexer": "ipython3",
   "version": "3.8.5"
  }
 },
 "nbformat": 4,
 "nbformat_minor": 4
}
