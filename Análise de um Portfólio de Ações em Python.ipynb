{
 "cells": [
  {
   "cell_type": "markdown",
   "metadata": {},
   "source": [
    "## Extração de Dados e Pesos de Portfólio\n",
    "Vamos retomar as discussões sobre finanças quantitativas, desde a extração dos dados até o cálculo de retorno, só que, agora, de um portfólio de ativos. "
   ]
  },
  {
   "cell_type": "code",
   "execution_count": 26,
   "metadata": {},
   "outputs": [],
   "source": [
    "import numpy as np\n",
    "import pandas as pd\n",
    "from pandas_datareader import data as pdr"
   ]
  },
  {
   "cell_type": "markdown",
   "metadata": {},
   "source": [
    "Após as importações, é necessária a criação do seu data frame (local de armazenamento de seus dados) e de uma lista com todos os tickers das ações que você deseja adicionar ao seu portfólio. É importante salientar que o ticker escrito deve ser equivalente ao ticker utilizado pelo Yahoo Finance (não necessariamente coincide com o ticker oficial).Vamos fazer uso de algumas empresas aéreas: Azul (AZUL), Latam (LTM- LTMAQ no Yahoo Finance), Gol (GOL) e American Airlines (AAL).\n",
    "\n",
    "Fazendo uso apenas do preço de fechamento das empresas X, Y, Z. Dessa forma, atribuímos todos os tickers das empresas em questão a uma variável e requisitamos os dados através desta com a limitação do Adjusted Close (Fechamento Ajustado)."
   ]
  },
  {
   "cell_type": "code",
   "execution_count": 16,
   "metadata": {},
   "outputs": [
    {
     "data": {
      "text/html": [
       "<div>\n",
       "<style scoped>\n",
       "    .dataframe tbody tr th:only-of-type {\n",
       "        vertical-align: middle;\n",
       "    }\n",
       "\n",
       "    .dataframe tbody tr th {\n",
       "        vertical-align: top;\n",
       "    }\n",
       "\n",
       "    .dataframe thead th {\n",
       "        text-align: right;\n",
       "    }\n",
       "</style>\n",
       "<table border=\"1\" class=\"dataframe\">\n",
       "  <thead>\n",
       "    <tr style=\"text-align: right;\">\n",
       "      <th></th>\n",
       "      <th>AZUL</th>\n",
       "      <th>LTMAQ</th>\n",
       "      <th>GOL</th>\n",
       "      <th>AAL</th>\n",
       "    </tr>\n",
       "    <tr>\n",
       "      <th>Date</th>\n",
       "      <th></th>\n",
       "      <th></th>\n",
       "      <th></th>\n",
       "      <th></th>\n",
       "    </tr>\n",
       "  </thead>\n",
       "  <tbody>\n",
       "    <tr>\n",
       "      <th>2020-12-24</th>\n",
       "      <td>21.320000</td>\n",
       "      <td>1.87</td>\n",
       "      <td>9.39</td>\n",
       "      <td>15.660000</td>\n",
       "    </tr>\n",
       "    <tr>\n",
       "      <th>2020-12-28</th>\n",
       "      <td>21.570000</td>\n",
       "      <td>1.81</td>\n",
       "      <td>9.28</td>\n",
       "      <td>16.059999</td>\n",
       "    </tr>\n",
       "    <tr>\n",
       "      <th>2020-12-29</th>\n",
       "      <td>21.760000</td>\n",
       "      <td>1.80</td>\n",
       "      <td>9.42</td>\n",
       "      <td>15.860000</td>\n",
       "    </tr>\n",
       "    <tr>\n",
       "      <th>2020-12-30</th>\n",
       "      <td>22.780001</td>\n",
       "      <td>1.74</td>\n",
       "      <td>9.65</td>\n",
       "      <td>16.150000</td>\n",
       "    </tr>\n",
       "    <tr>\n",
       "      <th>2020-12-31</th>\n",
       "      <td>22.820000</td>\n",
       "      <td>1.71</td>\n",
       "      <td>9.82</td>\n",
       "      <td>15.770000</td>\n",
       "    </tr>\n",
       "  </tbody>\n",
       "</table>\n",
       "</div>"
      ],
      "text/plain": [
       "                 AZUL  LTMAQ   GOL        AAL\n",
       "Date                                         \n",
       "2020-12-24  21.320000   1.87  9.39  15.660000\n",
       "2020-12-28  21.570000   1.81  9.28  16.059999\n",
       "2020-12-29  21.760000   1.80  9.42  15.860000\n",
       "2020-12-30  22.780001   1.74  9.65  16.150000\n",
       "2020-12-31  22.820000   1.71  9.82  15.770000"
      ]
     },
     "execution_count": 16,
     "metadata": {},
     "output_type": "execute_result"
    }
   ],
   "source": [
    "tickers = ['AZUL', 'LTMAQ', 'GOL', 'AAL']\n",
    "\n",
    "df = pd.DataFrame()\n",
    "\n",
    "for t in tickers:\n",
    "    df[t] = pdr.DataReader(t, data_source='yahoo', start='01-01-2019', end = '31-12-2020')['Adj Close']\n",
    "\n",
    "df.tail()"
   ]
  },
  {
   "cell_type": "markdown",
   "metadata": {},
   "source": [
    "Todos os portfólios devem possuir ativos com determinadas representatividades, chamadas de “pesos”. Você, como investidor, pode optar por possuir a mesma porcentagem de seu patrimônio em cada modalidade de investimento ou pode optar por customizá-la de acordo com suas demandas.\n",
    "Os processos pelos quais os pesos podem ser definidos são diversos, contudo os meios mais usuais são análises de correlação e relações risco-retorno. Vamos nos concentrar na definição “manual” dos pesos, através da criação de uma matriz de pesos, usualmente chamada de “weights”."
   ]
  },
  {
   "cell_type": "code",
   "execution_count": 17,
   "metadata": {},
   "outputs": [],
   "source": [
    "w = [0.3, 0.3, 0.2, 0.2]"
   ]
  },
  {
   "cell_type": "markdown",
   "metadata": {},
   "source": [
    "### Retorno de um Portfólio\n",
    "Agora que já sabemos como importar preços históricos e como calcular o risco e retorno de ativos individuais, podemos usar esse conhecimento para começar a montar o nosso portfólio!. A fórmula do retorno de um ativo é muito simples:\n",
    "\n",
    "$$\\begin{equation}\n",
    "R = \\frac{P_t-P_{ti}}{P_{ti}} \n",
    "\\end{equation}$$\n",
    "\n",
    "E sua forma acumulada:\n",
    "\n",
    "$$\\begin{equation}\n",
    "R_{cum} = (1+R_{t_1})\\cdot(1+R_{t_2})\\cdot...\\cdot(1+R_{t_n})\n",
    "\\end{equation}$$\n",
    "\n",
    "Logo, basta calcular os retornos de cada período para termos o retorno total. Entretanto, para carteiras com mais de um ativo é necessário ponderar o retorno de cada ativo pelo seu respectivo peso.\n",
    "Para fazer isso, vamos exemplificar com uma carteira de 4 ações diferentes: Azul (AZUL), Latam (LTMAQ), Gol (GOL) e American Airlines (AAL) no período de um ano (17/05/2020 a 17/05/2021). Cada ação possui um peso, ou seja, o quanto ela representa do total da carteira. Evidentemente, a soma desses pesos deve totalizar 1. Por exemplo: w = [0.3, 0.3, 0.2, 0.2], isso significa que temos 30% do nosso capital investido em AZUL, 30% em LTMAQ, 20% em GOL e 20% em AAL.\n",
    "\n",
    "Existem algumas maneiras de se calcular o retorno de um portfólio em um período t, uma delas é calculá-lo pela seguinte fórmula vetorizada:\n",
    "\n",
    "$$\\begin{equation}\n",
    "R = \\vec r \\times \\vec w\n",
    "\\end{equation}$$\n",
    "\n",
    "Onde 𝑟⃗ é o vetor de retornos de cada ativo da carteira no período, e 𝑤⃗ os seus respectivos pesos.\n",
    "O que essa fórmula nos diz? É muito simples, basicamente estamos multiplicando o retorno de cada ativo em cada período (minuto, dia, mês, etc) pelo seu peso e somando-os.\n",
    "\n",
    "\n",
    "Mais especificamente, o resultado da multiplicação do retorno de um ativo em uma data pelo seu peso na carteira é denominado de attribution. Logo, o retorno do portfólio em uma data é a soma dos attributions de cada ativo, ou seja, suas contribuições.\n",
    "Fazer essa conta por multiplicação de matrizes funciona apenas para quando os pesos dos ativos não mudam conforme o tempo passa. Caso os pesos da carteira mudem com o tempo, é necessário fazer a multiplicação “element wise”.\n",
    "Finalmente, note que R será um vetor de 1 coluna e t linhas, onde t é a quantidade de períodos."
   ]
  },
  {
   "cell_type": "code",
   "execution_count": 19,
   "metadata": {},
   "outputs": [
    {
     "data": {
      "text/plain": [
       "Date\n",
       "2019-01-02    91012.0\n",
       "2019-01-03    91564.0\n",
       "2019-01-04    91841.0\n",
       "2019-01-07    91699.0\n",
       "2019-01-08    92032.0\n",
       "Name: Adj Close, dtype: float64"
      ]
     },
     "execution_count": 19,
     "metadata": {},
     "output_type": "execute_result"
    }
   ],
   "source": [
    "## Extração de preços Ibovespa para comparação com o retorno do portfólio\n",
    "ibov = pdr.DataReader('^BVSP', data_source = 'yahoo', start = '01-01-2019', end = '31-12-2020')['Adj Close']\n",
    "ibov.head()"
   ]
  },
  {
   "cell_type": "code",
   "execution_count": 20,
   "metadata": {},
   "outputs": [
    {
     "data": {
      "text/html": [
       "<div>\n",
       "<style scoped>\n",
       "    .dataframe tbody tr th:only-of-type {\n",
       "        vertical-align: middle;\n",
       "    }\n",
       "\n",
       "    .dataframe tbody tr th {\n",
       "        vertical-align: top;\n",
       "    }\n",
       "\n",
       "    .dataframe thead th {\n",
       "        text-align: right;\n",
       "    }\n",
       "</style>\n",
       "<table border=\"1\" class=\"dataframe\">\n",
       "  <thead>\n",
       "    <tr style=\"text-align: right;\">\n",
       "      <th></th>\n",
       "      <th>AZUL</th>\n",
       "      <th>LTMAQ</th>\n",
       "      <th>GOL</th>\n",
       "      <th>AAL</th>\n",
       "    </tr>\n",
       "    <tr>\n",
       "      <th>Date</th>\n",
       "      <th></th>\n",
       "      <th></th>\n",
       "      <th></th>\n",
       "      <th></th>\n",
       "    </tr>\n",
       "  </thead>\n",
       "  <tbody>\n",
       "    <tr>\n",
       "      <th>2019-01-02</th>\n",
       "      <td>NaN</td>\n",
       "      <td>NaN</td>\n",
       "      <td>NaN</td>\n",
       "      <td>NaN</td>\n",
       "    </tr>\n",
       "    <tr>\n",
       "      <th>2019-01-03</th>\n",
       "      <td>0.002090</td>\n",
       "      <td>-0.018130</td>\n",
       "      <td>-0.002234</td>\n",
       "      <td>-0.074507</td>\n",
       "    </tr>\n",
       "    <tr>\n",
       "      <th>2019-01-04</th>\n",
       "      <td>0.007647</td>\n",
       "      <td>0.060253</td>\n",
       "      <td>0.008209</td>\n",
       "      <td>0.065868</td>\n",
       "    </tr>\n",
       "    <tr>\n",
       "      <th>2019-01-07</th>\n",
       "      <td>-0.032770</td>\n",
       "      <td>0.026581</td>\n",
       "      <td>-0.050333</td>\n",
       "      <td>0.028402</td>\n",
       "    </tr>\n",
       "    <tr>\n",
       "      <th>2019-01-08</th>\n",
       "      <td>-0.008916</td>\n",
       "      <td>0.009821</td>\n",
       "      <td>0.016368</td>\n",
       "      <td>-0.016085</td>\n",
       "    </tr>\n",
       "    <tr>\n",
       "      <th>...</th>\n",
       "      <td>...</td>\n",
       "      <td>...</td>\n",
       "      <td>...</td>\n",
       "      <td>...</td>\n",
       "    </tr>\n",
       "    <tr>\n",
       "      <th>2020-12-24</th>\n",
       "      <td>-0.012963</td>\n",
       "      <td>0.027473</td>\n",
       "      <td>-0.002125</td>\n",
       "      <td>-0.014475</td>\n",
       "    </tr>\n",
       "    <tr>\n",
       "      <th>2020-12-28</th>\n",
       "      <td>0.011726</td>\n",
       "      <td>-0.032086</td>\n",
       "      <td>-0.011715</td>\n",
       "      <td>0.025543</td>\n",
       "    </tr>\n",
       "    <tr>\n",
       "      <th>2020-12-29</th>\n",
       "      <td>0.008809</td>\n",
       "      <td>-0.005525</td>\n",
       "      <td>0.015086</td>\n",
       "      <td>-0.012453</td>\n",
       "    </tr>\n",
       "    <tr>\n",
       "      <th>2020-12-30</th>\n",
       "      <td>0.046875</td>\n",
       "      <td>-0.033333</td>\n",
       "      <td>0.024416</td>\n",
       "      <td>0.018285</td>\n",
       "    </tr>\n",
       "    <tr>\n",
       "      <th>2020-12-31</th>\n",
       "      <td>0.001756</td>\n",
       "      <td>-0.017241</td>\n",
       "      <td>0.017617</td>\n",
       "      <td>-0.023529</td>\n",
       "    </tr>\n",
       "  </tbody>\n",
       "</table>\n",
       "<p>505 rows × 4 columns</p>\n",
       "</div>"
      ],
      "text/plain": [
       "                AZUL     LTMAQ       GOL       AAL\n",
       "Date                                              \n",
       "2019-01-02       NaN       NaN       NaN       NaN\n",
       "2019-01-03  0.002090 -0.018130 -0.002234 -0.074507\n",
       "2019-01-04  0.007647  0.060253  0.008209  0.065868\n",
       "2019-01-07 -0.032770  0.026581 -0.050333  0.028402\n",
       "2019-01-08 -0.008916  0.009821  0.016368 -0.016085\n",
       "...              ...       ...       ...       ...\n",
       "2020-12-24 -0.012963  0.027473 -0.002125 -0.014475\n",
       "2020-12-28  0.011726 -0.032086 -0.011715  0.025543\n",
       "2020-12-29  0.008809 -0.005525  0.015086 -0.012453\n",
       "2020-12-30  0.046875 -0.033333  0.024416  0.018285\n",
       "2020-12-31  0.001756 -0.017241  0.017617 -0.023529\n",
       "\n",
       "[505 rows x 4 columns]"
      ]
     },
     "execution_count": 20,
     "metadata": {},
     "output_type": "execute_result"
    }
   ],
   "source": [
    "# Matriz de retornos\n",
    "r = df.pct_change()\n",
    "r"
   ]
  },
  {
   "cell_type": "code",
   "execution_count": 21,
   "metadata": {},
   "outputs": [
    {
     "data": {
      "text/html": [
       "<div>\n",
       "<style scoped>\n",
       "    .dataframe tbody tr th:only-of-type {\n",
       "        vertical-align: middle;\n",
       "    }\n",
       "\n",
       "    .dataframe tbody tr th {\n",
       "        vertical-align: top;\n",
       "    }\n",
       "\n",
       "    .dataframe thead th {\n",
       "        text-align: right;\n",
       "    }\n",
       "</style>\n",
       "<table border=\"1\" class=\"dataframe\">\n",
       "  <thead>\n",
       "    <tr style=\"text-align: right;\">\n",
       "      <th></th>\n",
       "      <th>R</th>\n",
       "    </tr>\n",
       "  </thead>\n",
       "  <tbody>\n",
       "    <tr>\n",
       "      <th>0</th>\n",
       "      <td>NaN</td>\n",
       "    </tr>\n",
       "    <tr>\n",
       "      <th>1</th>\n",
       "      <td>-0.020160</td>\n",
       "    </tr>\n",
       "    <tr>\n",
       "      <th>2</th>\n",
       "      <td>0.035185</td>\n",
       "    </tr>\n",
       "    <tr>\n",
       "      <th>3</th>\n",
       "      <td>-0.006243</td>\n",
       "    </tr>\n",
       "    <tr>\n",
       "      <th>4</th>\n",
       "      <td>0.000328</td>\n",
       "    </tr>\n",
       "    <tr>\n",
       "      <th>...</th>\n",
       "      <td>...</td>\n",
       "    </tr>\n",
       "    <tr>\n",
       "      <th>500</th>\n",
       "      <td>0.001033</td>\n",
       "    </tr>\n",
       "    <tr>\n",
       "      <th>501</th>\n",
       "      <td>-0.003342</td>\n",
       "    </tr>\n",
       "    <tr>\n",
       "      <th>502</th>\n",
       "      <td>0.001512</td>\n",
       "    </tr>\n",
       "    <tr>\n",
       "      <th>503</th>\n",
       "      <td>0.012603</td>\n",
       "    </tr>\n",
       "    <tr>\n",
       "      <th>504</th>\n",
       "      <td>-0.005828</td>\n",
       "    </tr>\n",
       "  </tbody>\n",
       "</table>\n",
       "<p>505 rows × 1 columns</p>\n",
       "</div>"
      ],
      "text/plain": [
       "            R\n",
       "0         NaN\n",
       "1   -0.020160\n",
       "2    0.035185\n",
       "3   -0.006243\n",
       "4    0.000328\n",
       "..        ...\n",
       "500  0.001033\n",
       "501 -0.003342\n",
       "502  0.001512\n",
       "503  0.012603\n",
       "504 -0.005828\n",
       "\n",
       "[505 rows x 1 columns]"
      ]
     },
     "execution_count": 21,
     "metadata": {},
     "output_type": "execute_result"
    }
   ],
   "source": [
    "# Retornos de Portfolio\n",
    "\n",
    "R = np.dot(r, w)\n",
    "pd.DataFrame(R, columns = ['R'])"
   ]
  },
  {
   "cell_type": "markdown",
   "metadata": {},
   "source": [
    "Agora que temos os retornos em cada período, basta fazermos a conta de retorno acumulado para termos o retorno ao final do período."
   ]
  },
  {
   "cell_type": "code",
   "execution_count": 22,
   "metadata": {},
   "outputs": [
    {
     "name": "stdout",
     "output_type": "stream",
     "text": [
      "Retorno acumulado da carteira no perído:  -40.08852023115993 %\n",
      "Retorno acumulado do ibovespa no perído:  31.08820814837614 %\n"
     ]
    }
   ],
   "source": [
    "retorno_cumulativo_carteira = np.cumprod(R[1:] + 1)-1\n",
    "retorno_cumulativo_ibov = np.cumprod(ibov.pct_change()+1)-1\n",
    "\n",
    "print(\"Retorno acumulado da carteira no perído: \", retorno_cumulativo_carteira[-1]*100, \"%\")\n",
    "print(\"Retorno acumulado do ibovespa no perído: \", retorno_cumulativo_ibov[-1]*100, \"%\")"
   ]
  },
  {
   "cell_type": "markdown",
   "metadata": {},
   "source": [
    "Vemos, portanto, que a performance dessa carteira foi bem abaixo do Ibovespa no mesmo período. \n",
    "\n",
    "Finalmente, vamos plotar dois cenários hipotéticos:\n",
    "\n",
    "* Investir R$ 1000,00 na carteira."
   ]
  },
  {
   "cell_type": "code",
   "execution_count": 23,
   "metadata": {},
   "outputs": [
    {
     "data": {
      "text/plain": [
       "Text(0.5, 1.0, 'Evolução R$ 1000 na carteira')"
      ]
     },
     "execution_count": 23,
     "metadata": {},
     "output_type": "execute_result"
    },
    {
     "data": {
      "image/png": "[encoded data removed]",
      "text/plain": [
       "<Figure size 432x288 with 1 Axes>"
      ]
     },
     "metadata": {
      "needs_background": "light"
     },
     "output_type": "display_data"
    }
   ],
   "source": [
    "import matplotlib.pyplot as plt\n",
    "\n",
    "plt.plot(1000*(1+R[1:]).cumprod(), color = 'orange')\n",
    "plt.title('Evolução R$ 1000 na carteira')"
   ]
  },
  {
   "cell_type": "markdown",
   "metadata": {},
   "source": [
    "* Investir R$ 1000,00 em Ibov."
   ]
  },
  {
   "cell_type": "code",
   "execution_count": 25,
   "metadata": {},
   "outputs": [
    {
     "data": {
      "text/plain": [
       "Text(0.5, 1.0, 'Evolução R$ 1000 em Ibov')"
      ]
     },
     "execution_count": 25,
     "metadata": {},
     "output_type": "execute_result"
    },
    {
     "data": {
      "image/png": "[encoded data removed]",
      "text/plain": [
       "<Figure size 432x288 with 1 Axes>"
      ]
     },
     "metadata": {
      "needs_background": "light"
     },
     "output_type": "display_data"
    }
   ],
   "source": [
    "plt.plot(1000*(1+ibov.pct_change()).cumprod())\n",
    "plt.title('Evolução R$ 1000 em Ibov')"
   ]
  },
  {
   "cell_type": "markdown",
   "metadata": {},
   "source": [
    "Note que o Ibovespa conseguiu recuperar suas perdas, enquanto que nossa carteira não.\n",
    "Vale notar que as regras de retorno simples e retorno logaritmo também se aplicam."
   ]
  },
  {
   "cell_type": "markdown",
   "metadata": {},
   "source": [
    "### Risco e Diversificação de um Portfólio\n",
    "Você provavelmente já ouviu que deve ter um portfólio diversificado. Essa diversificação deve ser feita nos tipos de ativos investidos — não é aconselhável investir em apenas um tipo de ativo (como ações) — alternando entre ações, títulos e fundos imobiliários, por exemplo. Analogamente, o portfólio de ações em si também deve ser devidamente diversificado. Mas você sabe porque é tão importante assim essa diversificação? A resposta curta seria: para minimizar o risco.\n",
    "\n",
    "Primeiro, cabe analisarmos como é feito o cálculo da volatilidade de um portfólio. Tendo visto anteriormente que, para uma ação individual, o risco é calculado através do desvio padrão, o mais intuitivo pode ser pensar que, para calcular o do portfólio, basta calcular o desvio padrão de cada ação e multiplicar pelo seu respectivo peso. Esse até poderia ser o caso se a flutuação de cada uma das ações fossem eventos independentes entre si. Mas, dificilmente, esse será o caso, tendo em vista que, normalmente, as ações oscilam conjuntamente. Dessa forma, a volatilidade de um portfólio será dada por:\n",
    "\n",
    "$$\\begin{equation}\n",
    "\\sigma = \\sqrt{wCw^T}\n",
    "\\end{equation}$$\n",
    "\n",
    "Sendo:\n",
    "* $w$: array de dimensão (1 x n) com os pesos de cada ação, sendo n o número de ações do portfólio;\n",
    "* $C$: matriz de covariância (n x n) das ações do portfólio;\n",
    "* $w^T$: transposição do array com os pesos de cada ação (n x 1).\n",
    "\n",
    "A matriz de covariância ( C ) é o fator que analisa a variação conjunta de preços de cada par de ativo. Cada covariância é calculada através da seguinte fórmula:\n",
    "\n",
    "$$\\begin{equation}\n",
    "cov\\left(x,y\\right) = \\frac{\\sum_{k=1}^{N}\\left(x_i-x\\right)\\left(y_i-y\\right)}{n-1}\n",
    "\\end{equation}$$\n",
    "\n",
    "Sendo:\n",
    "* $x_i$: o retorno da ação A no dia i;\n",
    "* $x$: o retorno médio da ação A;\n",
    "* $y_i$: o retorno da ação B no dia i;\n",
    "* $y$: o retorno médio da ação B;\n",
    "* $n$: o número de dias analisados\n",
    "\n",
    "Aplicando essa fórmula a cada elemento da matriz de covariância C, a diagonal principal apresentará uma característica interessante: nessa, será calculada a covariância entre a ação e ela mesma, resultando, portanto, na variância da ação. Aqui, cabe lembrar que a variância corresponde ao quadrado do desvio padrão. Assim, fica nítido o porquê de ser operada a raiz quadrada da multiplicação matricial para encontrarmos a volatilidade do portfólio.\n",
    "\n",
    "Primeiro, vamos analisar um portfólio composto por: Azul (AZUL), Latam (LTM), Gol (GOL) e American Airlines (AAL) com pesos homogeneamente distribuídos (todas com 25%) e considerando o período de dois anos (de 01/01/2019 a 31/12/2020). Não precisamos nem plotar uma matriz de correlação para perceber que esse portfólio não é nem um pouco diversificado. Todas as ações pertencem a um mesmo setor e, portanto, tendem a apresentar um padrão de flutuação altamente correlato. Vamos calcular, então, o risco deste:"
   ]
  },
  {
   "cell_type": "code",
   "execution_count": 29,
   "metadata": {},
   "outputs": [
    {
     "name": "stdout",
     "output_type": "stream",
     "text": [
      "A volatilidade é de  79.29366716985574 %\n"
     ]
    }
   ],
   "source": [
    "log_ret = np.log(df/df.shift(1))\n",
    "\n",
    "#pesos\n",
    "W = [0.25, 0.25, 0.25, 0.25]\n",
    "\n",
    "vol = np.sqrt(np.dot(np.transpose(W), np.dot(log_ret.cov()*252, W)))\n",
    "print(\"A volatilidade é de \",vol*100,\"%\")"
   ]
  },
  {
   "cell_type": "markdown",
   "metadata": {},
   "source": [
    "Algumas observações importantes:\n",
    "1. Para cálculo, consideramos o retorno logarítmico;\n",
    "2. Foi multiplicado por 252 a fim de calcularmos a volatilidade anual, e não a diária, do portfólio.\n",
    "\n",
    "O resultado era um tanto quanto esperado haja vista que todas as ações estão relacionadas ao mesmo setor. Vamos olhar essa relação mais de perto? Para isso, usaremos uma matriz de correlação, mas antes, cabe darmos uma relembrada na fórmula de correlação a partir da covariância:\n",
    "\n",
    "$$\\begin{equation}\n",
    "corr = \\frac{cov \\left(x,y\\right)}{\\sigma x * \\sigma y}\n",
    "\\end{equation}$$\n",
    "\n",
    "Sendo:\n",
    "* $cov(x,y)$: covariância entre as ações x e y;\n",
    "* $σx$: desvio padrão da ação x;\n",
    "* $σy$: desvio padrão da ação y.\n",
    "\n",
    "Assim, percebemos que a correlação é meramente uma normalização da covariância a partir dos desvios padrões. Ela costuma ser uma forma mais direta de visualização, pois possui limite inferior e superior (varia entre -1 e 1), enquanto a covariância pode variar entre -∞ e +∞. Vale lembrar que, quanto mais próximo de 1 for o valor absoluto, mais forte é a correlação. Vamos dar uma olhada, então, na matriz de correlação do portfólio 1:"
   ]
  },
  {
   "cell_type": "code",
   "execution_count": 68,
   "metadata": {},
   "outputs": [
    {
     "data": {
      "text/plain": [
       "<AxesSubplot:>"
      ]
     },
     "execution_count": 68,
     "metadata": {},
     "output_type": "execute_result"
    },
    {
     "data": {
      "image/png": "[encoded data removed]",
      "text/plain": [
       "<Figure size 792x648 with 2 Axes>"
      ]
     },
     "metadata": {
      "needs_background": "light"
     },
     "output_type": "display_data"
    }
   ],
   "source": [
    "import seaborn as sns\n",
    "\n",
    "corr = r.corr()\n",
    "\n",
    "#Set up the matplotlib figure\n",
    "f, ax = plt.subplots(figsize=(11, 9))\n",
    "\n",
    "#Gere uma máscara para o triângulo superior\n",
    "mask = np.triu(corr,1)\n",
    "\n",
    "sns.heatmap(corr, mask=mask, cmap='Blues', annot=True, vmin=0, vmax=1, center= 0.5)"
   ]
  },
  {
   "cell_type": "markdown",
   "metadata": {},
   "source": [
    "Não surpreendentemente, as ações apresentam forte correlação entre si. A menos correlata é a American Airlines, o que faz sentido considerando que, das três, ela é a única que não concentra suas operações na região da América Latina.\n",
    "\n",
    "Agora, vamos para o segundo portfólio: esse será composto pela Tesla (TSLA), Bradesco (BBD), Lockheed Martin (LMT) e pela cotação do Ouro (GC=F), com pesos distribuídos homogeneamente (25% para cada) e considerando o mesmo período do portfólio anterior. Sigamos para o cálculo do risco:"
   ]
  },
  {
   "cell_type": "code",
   "execution_count": 70,
   "metadata": {},
   "outputs": [
    {
     "data": {
      "text/html": [
       "<div>\n",
       "<style scoped>\n",
       "    .dataframe tbody tr th:only-of-type {\n",
       "        vertical-align: middle;\n",
       "    }\n",
       "\n",
       "    .dataframe tbody tr th {\n",
       "        vertical-align: top;\n",
       "    }\n",
       "\n",
       "    .dataframe thead th {\n",
       "        text-align: right;\n",
       "    }\n",
       "</style>\n",
       "<table border=\"1\" class=\"dataframe\">\n",
       "  <thead>\n",
       "    <tr style=\"text-align: right;\">\n",
       "      <th></th>\n",
       "      <th>TSLA</th>\n",
       "      <th>BBD</th>\n",
       "      <th>LMT</th>\n",
       "      <th>GC=F</th>\n",
       "    </tr>\n",
       "    <tr>\n",
       "      <th>Date</th>\n",
       "      <th></th>\n",
       "      <th></th>\n",
       "      <th></th>\n",
       "      <th></th>\n",
       "    </tr>\n",
       "  </thead>\n",
       "  <tbody>\n",
       "    <tr>\n",
       "      <th>2020-12-24</th>\n",
       "      <td>661.770020</td>\n",
       "      <td>5.232188</td>\n",
       "      <td>349.291779</td>\n",
       "      <td>NaN</td>\n",
       "    </tr>\n",
       "    <tr>\n",
       "      <th>2020-12-28</th>\n",
       "      <td>663.690002</td>\n",
       "      <td>5.202793</td>\n",
       "      <td>351.484955</td>\n",
       "      <td>1877.199951</td>\n",
       "    </tr>\n",
       "    <tr>\n",
       "      <th>2020-12-29</th>\n",
       "      <td>665.989990</td>\n",
       "      <td>5.244591</td>\n",
       "      <td>351.207092</td>\n",
       "      <td>1879.699951</td>\n",
       "    </tr>\n",
       "    <tr>\n",
       "      <th>2020-12-30</th>\n",
       "      <td>694.780029</td>\n",
       "      <td>5.244591</td>\n",
       "      <td>351.465118</td>\n",
       "      <td>1891.000000</td>\n",
       "    </tr>\n",
       "    <tr>\n",
       "      <th>2020-12-31</th>\n",
       "      <td>705.669983</td>\n",
       "      <td>5.234640</td>\n",
       "      <td>352.278870</td>\n",
       "      <td>1893.099976</td>\n",
       "    </tr>\n",
       "  </tbody>\n",
       "</table>\n",
       "</div>"
      ],
      "text/plain": [
       "                  TSLA       BBD         LMT         GC=F\n",
       "Date                                                     \n",
       "2020-12-24  661.770020  5.232188  349.291779          NaN\n",
       "2020-12-28  663.690002  5.202793  351.484955  1877.199951\n",
       "2020-12-29  665.989990  5.244591  351.207092  1879.699951\n",
       "2020-12-30  694.780029  5.244591  351.465118  1891.000000\n",
       "2020-12-31  705.669983  5.234640  352.278870  1893.099976"
      ]
     },
     "execution_count": 70,
     "metadata": {},
     "output_type": "execute_result"
    }
   ],
   "source": [
    "tickers2 = ['TSLA', 'BBD', 'LMT', 'GC=F']\n",
    "\n",
    "df2 = pd.DataFrame()\n",
    "\n",
    "for t in tickers2:\n",
    "    df2[t] = pdr.DataReader(t, data_source='yahoo', start='01-01-2019', end = '31-12-2020')['Adj Close']\n",
    "\n",
    "df2.tail()"
   ]
  },
  {
   "cell_type": "code",
   "execution_count": 71,
   "metadata": {},
   "outputs": [
    {
     "name": "stdout",
     "output_type": "stream",
     "text": [
      "A volatilidade é de  30.31709792921764 %\n"
     ]
    }
   ],
   "source": [
    "log_ret = np.log(df2/df2.shift(1))\n",
    "\n",
    "#pesos\n",
    "W = [0.25, 0.25, 0.25, 0.25]\n",
    "\n",
    "vol = np.sqrt(np.dot(np.transpose(W), np.dot(log_ret.cov()*252, W)))\n",
    "print(\"A volatilidade é de \",vol*100,\"%\")"
   ]
  },
  {
   "cell_type": "code",
   "execution_count": 74,
   "metadata": {},
   "outputs": [
    {
     "data": {
      "text/html": [
       "<div>\n",
       "<style scoped>\n",
       "    .dataframe tbody tr th:only-of-type {\n",
       "        vertical-align: middle;\n",
       "    }\n",
       "\n",
       "    .dataframe tbody tr th {\n",
       "        vertical-align: top;\n",
       "    }\n",
       "\n",
       "    .dataframe thead th {\n",
       "        text-align: right;\n",
       "    }\n",
       "</style>\n",
       "<table border=\"1\" class=\"dataframe\">\n",
       "  <thead>\n",
       "    <tr style=\"text-align: right;\">\n",
       "      <th></th>\n",
       "      <th>TSLA</th>\n",
       "      <th>BBD</th>\n",
       "      <th>LMT</th>\n",
       "      <th>GC=F</th>\n",
       "    </tr>\n",
       "    <tr>\n",
       "      <th>Date</th>\n",
       "      <th></th>\n",
       "      <th></th>\n",
       "      <th></th>\n",
       "      <th></th>\n",
       "    </tr>\n",
       "  </thead>\n",
       "  <tbody>\n",
       "    <tr>\n",
       "      <th>2019-01-02</th>\n",
       "      <td>NaN</td>\n",
       "      <td>NaN</td>\n",
       "      <td>NaN</td>\n",
       "      <td>NaN</td>\n",
       "    </tr>\n",
       "    <tr>\n",
       "      <th>2019-01-03</th>\n",
       "      <td>-0.031472</td>\n",
       "      <td>0.012730</td>\n",
       "      <td>-0.025120</td>\n",
       "      <td>0.008431</td>\n",
       "    </tr>\n",
       "    <tr>\n",
       "      <th>2019-01-04</th>\n",
       "      <td>0.057697</td>\n",
       "      <td>0.013035</td>\n",
       "      <td>0.026968</td>\n",
       "      <td>-0.007045</td>\n",
       "    </tr>\n",
       "    <tr>\n",
       "      <th>2019-01-07</th>\n",
       "      <td>0.054361</td>\n",
       "      <td>-0.002757</td>\n",
       "      <td>0.011470</td>\n",
       "      <td>0.003196</td>\n",
       "    </tr>\n",
       "    <tr>\n",
       "      <th>2019-01-08</th>\n",
       "      <td>0.001164</td>\n",
       "      <td>0.016590</td>\n",
       "      <td>0.006677</td>\n",
       "      <td>-0.002798</td>\n",
       "    </tr>\n",
       "    <tr>\n",
       "      <th>...</th>\n",
       "      <td>...</td>\n",
       "      <td>...</td>\n",
       "      <td>...</td>\n",
       "      <td>...</td>\n",
       "    </tr>\n",
       "    <tr>\n",
       "      <th>2020-12-24</th>\n",
       "      <td>0.024444</td>\n",
       "      <td>0.001876</td>\n",
       "      <td>0.001052</td>\n",
       "      <td>0.000000</td>\n",
       "    </tr>\n",
       "    <tr>\n",
       "      <th>2020-12-28</th>\n",
       "      <td>0.002901</td>\n",
       "      <td>-0.005618</td>\n",
       "      <td>0.006279</td>\n",
       "      <td>0.001334</td>\n",
       "    </tr>\n",
       "    <tr>\n",
       "      <th>2020-12-29</th>\n",
       "      <td>0.003465</td>\n",
       "      <td>0.008034</td>\n",
       "      <td>-0.000791</td>\n",
       "      <td>0.001332</td>\n",
       "    </tr>\n",
       "    <tr>\n",
       "      <th>2020-12-30</th>\n",
       "      <td>0.043229</td>\n",
       "      <td>0.000000</td>\n",
       "      <td>0.000735</td>\n",
       "      <td>0.006012</td>\n",
       "    </tr>\n",
       "    <tr>\n",
       "      <th>2020-12-31</th>\n",
       "      <td>0.015674</td>\n",
       "      <td>-0.001897</td>\n",
       "      <td>0.002315</td>\n",
       "      <td>0.001111</td>\n",
       "    </tr>\n",
       "  </tbody>\n",
       "</table>\n",
       "<p>505 rows × 4 columns</p>\n",
       "</div>"
      ],
      "text/plain": [
       "                TSLA       BBD       LMT      GC=F\n",
       "Date                                              \n",
       "2019-01-02       NaN       NaN       NaN       NaN\n",
       "2019-01-03 -0.031472  0.012730 -0.025120  0.008431\n",
       "2019-01-04  0.057697  0.013035  0.026968 -0.007045\n",
       "2019-01-07  0.054361 -0.002757  0.011470  0.003196\n",
       "2019-01-08  0.001164  0.016590  0.006677 -0.002798\n",
       "...              ...       ...       ...       ...\n",
       "2020-12-24  0.024444  0.001876  0.001052  0.000000\n",
       "2020-12-28  0.002901 -0.005618  0.006279  0.001334\n",
       "2020-12-29  0.003465  0.008034 -0.000791  0.001332\n",
       "2020-12-30  0.043229  0.000000  0.000735  0.006012\n",
       "2020-12-31  0.015674 -0.001897  0.002315  0.001111\n",
       "\n",
       "[505 rows x 4 columns]"
      ]
     },
     "execution_count": 74,
     "metadata": {},
     "output_type": "execute_result"
    }
   ],
   "source": [
    "# Matriz de retornos\n",
    "r2 = df2.pct_change()\n",
    "r2"
   ]
  },
  {
   "cell_type": "markdown",
   "metadata": {},
   "source": [
    "Bem melhor, não? Vamos dar uma olhada agora na matriz de correlação desse portfólio:"
   ]
  },
  {
   "cell_type": "code",
   "execution_count": 75,
   "metadata": {},
   "outputs": [
    {
     "data": {
      "text/plain": [
       "<AxesSubplot:>"
      ]
     },
     "execution_count": 75,
     "metadata": {},
     "output_type": "execute_result"
    },
    {
     "data": {
      "image/png": "[encoded data removed]",
      "text/plain": [
       "<Figure size 792x648 with 2 Axes>"
      ]
     },
     "metadata": {
      "needs_background": "light"
     },
     "output_type": "display_data"
    }
   ],
   "source": [
    "corr2 = r2.corr()\n",
    "\n",
    "#Set up the matplotlib figure\n",
    "f, ax = plt.subplots(figsize=(11, 9))\n",
    "\n",
    "#Gere uma máscara para o triângulo superior\n",
    "mask = np.triu(corr,1)\n",
    "\n",
    "sns.heatmap(corr2, mask=mask, cmap='Blues', annot=True, vmin=0, vmax=1, center= 0.5)"
   ]
  },
  {
   "cell_type": "markdown",
   "metadata": {},
   "source": [
    "Nesse portfólio, as ações apresentam uma correlação bem menor entre si. O par mais correlato deste apresenta o mesmo valor de correlação (0,44). Assim, fica evidente como este está bem mais diversificado. Nessa análise, vemos também que a ação menos correlata é a da cotação do ouro. Aqui, cabe uma observação interessante: o ouro é comumente usado pelos investidores como um hedge (ou seja, uma estratégia de proteção para os riscos) contra a inflação e demais instabilidades do mercado. Geralmente, o ouro costuma apresentar um comportamento inverso ao dólar: quando esse cai, o ouro tende a ser mais demandado e, portanto, mais valorizado. Assim, se tudo mais no mercado estiver dando errado, pelo menos, parte do seu patrimônio estaria a salvo com o investimento no ouro."
   ]
  },
  {
   "cell_type": "code",
   "execution_count": null,
   "metadata": {},
   "outputs": [],
   "source": []
  }
 ],
 "metadata": {
  "kernelspec": {
   "display_name": "Python 3",
   "language": "python",
   "name": "python3"
  },
  "language_info": {
   "codemirror_mode": {
    "name": "ipython",
    "version": 3
   },
   "file_extension": ".py",
   "mimetype": "text/x-python",
   "name": "python",
   "nbconvert_exporter": "python",
   "pygments_lexer": "ipython3",
   "version": "3.8.5"
  }
 },
 "nbformat": 4,
 "nbformat_minor": 4
}
